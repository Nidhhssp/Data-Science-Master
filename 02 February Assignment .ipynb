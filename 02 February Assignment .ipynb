{
 "cells": [
  {
   "cell_type": "markdown",
   "id": "993f1be5",
   "metadata": {},
   "source": [
    "# Assignment"
   ]
  },
  {
   "cell_type": "markdown",
   "id": "287b9bde",
   "metadata": {},
   "source": [
    "## Q1. What are the characteristics of the tuples? Is tuple immutable?\n",
    "## Answer:"
   ]
  },
  {
   "cell_type": "markdown",
   "id": "7f232110",
   "metadata": {},
   "source": [
    "### Characteristics Of The Tuples:\n",
    "1. Tuples are immutable.\n",
    "2. Tuples are enclosed within parenthesis and not within square braces.\n",
    "3. Tuples are ordered, indexed collections of data. Similar to string indices, the first value in the tuple will have the index [0], the second value [1], and so on.\n",
    "4. Negative indices are counted from the end of the tuple, just like lists.\n",
    "5. Tuples can store duplicate values.\n",
    "6. Once data is assigned to a tuple, the values cannot be changed.\n",
    "7. Tuples allow you to store several data items in one variable. You can choose to store only one kind of data in a tuple or mix it up as needed.\n",
    "## Tuple is immutable sequence. We can't add or delete its elements."
   ]
  },
  {
   "cell_type": "markdown",
   "id": "adeec14f",
   "metadata": {},
   "source": [
    "......................................................................................................................."
   ]
  },
  {
   "cell_type": "markdown",
   "id": "a0974e81",
   "metadata": {},
   "source": [
    "## Q2. What are the two tuple methods in python? Give an example of each method. Give a reason why tuples have only two in-built methods as compared to Lists.\n",
    "## Answer:"
   ]
  },
  {
   "cell_type": "markdown",
   "id": "711d0285",
   "metadata": {},
   "source": [
    "### Tuple Methods in Python\n",
    "1. count().  Return the number of times a specified value occurs in tuple.\n",
    "2. index().  Searches the tuple for a specified value and returns the position where it was found."
   ]
  },
  {
   "cell_type": "code",
   "execution_count": 71,
   "id": "f41f2c0e",
   "metadata": {},
   "outputs": [
    {
     "data": {
      "text/plain": [
       "tuple"
      ]
     },
     "execution_count": 71,
     "metadata": {},
     "output_type": "execute_result"
    }
   ],
   "source": [
    "# type() \n",
    "t=(1,2,3,2,3,4,3,3,4,4,3)\n",
    "type(t)"
   ]
  },
  {
   "cell_type": "code",
   "execution_count": 72,
   "id": "f0474ff0",
   "metadata": {},
   "outputs": [
    {
     "data": {
      "text/plain": [
       "(1, 2, 3, 2, 3, 4, 3, 3, 4, 4, 3)"
      ]
     },
     "execution_count": 72,
     "metadata": {},
     "output_type": "execute_result"
    }
   ],
   "source": [
    "# values in tuple\n",
    "t"
   ]
  },
  {
   "cell_type": "code",
   "execution_count": 73,
   "id": "9e227df2",
   "metadata": {},
   "outputs": [
    {
     "data": {
      "text/plain": [
       "3"
      ]
     },
     "execution_count": 73,
     "metadata": {},
     "output_type": "execute_result"
    }
   ],
   "source": [
    "# count() method\n",
    "t.count(4)"
   ]
  },
  {
   "cell_type": "code",
   "execution_count": 74,
   "id": "1e1f9f79",
   "metadata": {},
   "outputs": [
    {
     "data": {
      "text/plain": [
       "2"
      ]
     },
     "execution_count": 74,
     "metadata": {},
     "output_type": "execute_result"
    }
   ],
   "source": [
    "# index() method\n",
    "t.index(3)"
   ]
  },
  {
   "cell_type": "markdown",
   "id": "13c23fe8",
   "metadata": {},
   "source": [
    "### A tuple have only two built-in methods as compared to List.This is mainly because a tuple is immutable. So, operations such as insertion, deletion, or update would be meaningless."
   ]
  },
  {
   "cell_type": "markdown",
   "id": "b540af4a",
   "metadata": {},
   "source": [
    "........................................................................................................"
   ]
  },
  {
   "cell_type": "markdown",
   "id": "dc1791cc",
   "metadata": {},
   "source": [
    "## Q3. Which collection datatypes in python do not allow duplicate items? Write a code using a set to remove duplicates from the given list.\n",
    "### List = [1, 1, 1, 2, 1, 3, 1, 4, 2, 1, 2, 2, 2, 3, 2, 4, 3, 1, 3, 2, 3, 3, 3, 4, 4, 1, 4, 2, 4, 3, 4, 4]\n",
    "## Answer:"
   ]
  },
  {
   "cell_type": "markdown",
   "id": "0201456c",
   "metadata": {},
   "source": [
    "* Set is a collection which is unordered, unchangeable, and unindexed. \n",
    "* Set do not allow duplicate items."
   ]
  },
  {
   "cell_type": "code",
   "execution_count": 75,
   "id": "109013d6",
   "metadata": {},
   "outputs": [
    {
     "data": {
      "text/plain": [
       "{1, 2, 3, 4}"
      ]
     },
     "execution_count": 75,
     "metadata": {},
     "output_type": "execute_result"
    }
   ],
   "source": [
    "List = [1, 1, 1, 2, 1, 3, 1, 4, 2, 1, 2, 2, 2, 3, 2, 4, 3, 1, 3, 2, 3, 3, 3, 4, 4, 1, 4, 2, 4, 3, 4, 4]\n",
    "s1=set(List)\n",
    "s1"
   ]
  },
  {
   "cell_type": "markdown",
   "id": "2b665a27",
   "metadata": {},
   "source": [
    ".............................................................................................."
   ]
  },
  {
   "cell_type": "markdown",
   "id": "871d9a76",
   "metadata": {},
   "source": [
    "## Q4. Explain the difference between the union() and update() methods for a set. Give an example of each method.\n",
    "## Answer:"
   ]
  },
  {
   "cell_type": "markdown",
   "id": "5af99fa2",
   "metadata": {},
   "source": [
    "### Difference between the union() and update() methods for a set.\n",
    "1. union()  Return a set containing the union of sets.\n",
    "  * union() method that returns a new set containing all items from both sets.\n",
    "2. update() Update the set with tje union of this set and others.\n",
    "  * update() method that inserts all the items from one set into another."
   ]
  },
  {
   "cell_type": "code",
   "execution_count": 76,
   "id": "1e0c0018",
   "metadata": {},
   "outputs": [
    {
     "name": "stdout",
     "output_type": "stream",
     "text": [
      "<class 'set'>\n",
      "<class 'set'>\n"
     ]
    }
   ],
   "source": [
    "# type()\n",
    "set1={1,2,3,4}\n",
    "set2={'a','b','c','d'}\n",
    "print(type(set1))\n",
    "print(type(set2))"
   ]
  },
  {
   "cell_type": "code",
   "execution_count": 77,
   "id": "cec7fddf",
   "metadata": {},
   "outputs": [
    {
     "name": "stdout",
     "output_type": "stream",
     "text": [
      "{1, 2, 3, 4}\n",
      "{'c', 'b', 'a', 'd'}\n"
     ]
    }
   ],
   "source": [
    "# values in sets\n",
    "print(set1)\n",
    "print(set2)"
   ]
  },
  {
   "cell_type": "code",
   "execution_count": 78,
   "id": "ec0a1e5f",
   "metadata": {},
   "outputs": [
    {
     "data": {
      "text/plain": [
       "{1, 2, 3, 4, 'a', 'b', 'c', 'd'}"
      ]
     },
     "execution_count": 78,
     "metadata": {},
     "output_type": "execute_result"
    }
   ],
   "source": [
    "# union() method\n",
    "set3=set1.union(set2)\n",
    "set3"
   ]
  },
  {
   "cell_type": "code",
   "execution_count": 79,
   "id": "c0dc0913",
   "metadata": {},
   "outputs": [
    {
     "data": {
      "text/plain": [
       "{1, 2, 3, 4, 'N', 'a', 'b', 'c', 'd', 'i'}"
      ]
     },
     "execution_count": 79,
     "metadata": {},
     "output_type": "execute_result"
    }
   ],
   "source": [
    "# update() method\n",
    "lst=['N','i']\n",
    "set3.update(lst)\n",
    "set3"
   ]
  },
  {
   "cell_type": "markdown",
   "id": "b2843fb9",
   "metadata": {},
   "source": [
    "................................................................................................"
   ]
  },
  {
   "cell_type": "markdown",
   "id": "0710d187",
   "metadata": {},
   "source": [
    "## Q5. What is a dictionary? Give an example. Also, state whether a dictionary is ordered or unordered.\n",
    "## Answer:"
   ]
  },
  {
   "cell_type": "markdown",
   "id": "1efaf4bc",
   "metadata": {},
   "source": [
    "###  DICTIONARY \n",
    "* Dictionaries are used to store data values in key:value pairs.\n",
    "* Dictionaries are written with curly brackets.\n",
    "* Dictionary items are ordered, changeable, and does not allow duplicates.\n",
    "* Dictionary items are presented in key:value pairs, and can be referred to by using the key name.\n",
    "* Dictionaries are changeable, meaning that we can change, add or remove items after the dictionary has been created.\n",
    "* Dictionaries cannot have two items with the same key."
   ]
  },
  {
   "cell_type": "code",
   "execution_count": 80,
   "id": "d53cc18e",
   "metadata": {},
   "outputs": [
    {
     "data": {
      "text/plain": [
       "dict"
      ]
     },
     "execution_count": 80,
     "metadata": {},
     "output_type": "execute_result"
    }
   ],
   "source": [
    "# type ()\n",
    "d={'Name':'Nidhi','Course':'BCA'}\n",
    "type(d)"
   ]
  },
  {
   "cell_type": "code",
   "execution_count": 81,
   "id": "55f654d8",
   "metadata": {},
   "outputs": [
    {
     "data": {
      "text/plain": [
       "{'Name': 'Nidhi', 'Course': 'BCA'}"
      ]
     },
     "execution_count": 81,
     "metadata": {},
     "output_type": "execute_result"
    }
   ],
   "source": [
    "# Values in Dictionary\n",
    "d"
   ]
  },
  {
   "cell_type": "code",
   "execution_count": 82,
   "id": "2041f2bf",
   "metadata": {},
   "outputs": [],
   "source": [
    "# Add a new key in dictionary\n",
    "d['Age']=19"
   ]
  },
  {
   "cell_type": "code",
   "execution_count": 83,
   "id": "22c902d9",
   "metadata": {},
   "outputs": [
    {
     "data": {
      "text/plain": [
       "{'Name': 'Nidhi', 'Course': 'BCA', 'Age': 19}"
      ]
     },
     "execution_count": 83,
     "metadata": {},
     "output_type": "execute_result"
    }
   ],
   "source": [
    "# Updated Dictionary\n",
    "d"
   ]
  },
  {
   "cell_type": "markdown",
   "id": "b00c2273",
   "metadata": {},
   "source": [
    "* As of Python version 3.7, dictionaries are ordered. \n",
    "    * When we say that dictionaries are ordered, it means that the items have a defined order, and that order will not change.\n",
    "* In Python 3.6 and earlier, dictionaries are unordered.\n",
    "    * Unordered means that the items does not have a defined order, we cannot refer to an item by using an index."
   ]
  },
  {
   "cell_type": "markdown",
   "id": "345af868",
   "metadata": {},
   "source": [
    "...................................................................................................."
   ]
  },
  {
   "cell_type": "markdown",
   "id": "d90f93e7",
   "metadata": {},
   "source": [
    "## Q6. Can we create a nested dictionary? If so, please give an example by creating a simple one-level nested dictionary.\n",
    "## Answer:"
   ]
  },
  {
   "cell_type": "markdown",
   "id": "c7abd0af",
   "metadata": {},
   "source": [
    "* Yes, We can create a nested dictionary."
   ]
  },
  {
   "cell_type": "code",
   "execution_count": 84,
   "id": "a618638c",
   "metadata": {},
   "outputs": [],
   "source": [
    "# Nested Dictionary\n",
    "d1={'Intro':{'Name':{'First': 'Nivi','Last':'Parihar'},'DOB':{'Year': 2003 ,'Month' : 'January' ,'Date' : 21}}}"
   ]
  },
  {
   "cell_type": "code",
   "execution_count": 85,
   "id": "59bf2402",
   "metadata": {},
   "outputs": [
    {
     "data": {
      "text/plain": [
       "{'Intro': {'Name': {'First': 'Nivi', 'Last': 'Parihar'},\n",
       "  'DOB': {'Year': 2003, 'Month': 'January', 'Date': 21}}}"
      ]
     },
     "execution_count": 85,
     "metadata": {},
     "output_type": "execute_result"
    }
   ],
   "source": [
    "# Values in Dictionary \n",
    "d1"
   ]
  },
  {
   "cell_type": "code",
   "execution_count": 86,
   "id": "1e3b6283",
   "metadata": {},
   "outputs": [
    {
     "data": {
      "text/plain": [
       "{'Name': {'First': 'Nivi', 'Last': 'Parihar'},\n",
       " 'DOB': {'Year': 2003, 'Month': 'January', 'Date': 21}}"
      ]
     },
     "execution_count": 86,
     "metadata": {},
     "output_type": "execute_result"
    }
   ],
   "source": [
    "# Values in Key\n",
    "d1['Intro']"
   ]
  },
  {
   "cell_type": "code",
   "execution_count": 87,
   "id": "d669a86f",
   "metadata": {},
   "outputs": [
    {
     "data": {
      "text/plain": [
       "{'First': 'Nivi', 'Last': 'Parihar'}"
      ]
     },
     "execution_count": 87,
     "metadata": {},
     "output_type": "execute_result"
    }
   ],
   "source": [
    "# Nested key value \n",
    "d1['Intro']['Name']"
   ]
  },
  {
   "cell_type": "code",
   "execution_count": 88,
   "id": "aeaa61b7",
   "metadata": {},
   "outputs": [
    {
     "data": {
      "text/plain": [
       "'Parihar'"
      ]
     },
     "execution_count": 88,
     "metadata": {},
     "output_type": "execute_result"
    }
   ],
   "source": [
    "# Nested Key Value\n",
    "d1['Intro']['Name']['Last']"
   ]
  },
  {
   "cell_type": "markdown",
   "id": "f8277e93",
   "metadata": {},
   "source": [
    "...................................................................................................."
   ]
  },
  {
   "cell_type": "markdown",
   "id": "6a858220",
   "metadata": {},
   "source": [
    "## Q7. Using setdefault() method, create key named topics in the given dictionary and also add the value of the key as this list ['Python', 'Machine Learning’, 'Deep Learning']\n",
    "### dict1 = {'language' : 'Python', 'course': 'Data Science Masters'}\n",
    "## Answer:"
   ]
  },
  {
   "cell_type": "code",
   "execution_count": 89,
   "id": "06817f44",
   "metadata": {},
   "outputs": [
    {
     "data": {
      "text/plain": [
       "dict"
      ]
     },
     "execution_count": 89,
     "metadata": {},
     "output_type": "execute_result"
    }
   ],
   "source": [
    "# type()\n",
    "dict1 = {'language' : 'Python', 'course': 'Data Science Masters'}\n",
    "type(dict1)"
   ]
  },
  {
   "cell_type": "code",
   "execution_count": 90,
   "id": "bce8746b",
   "metadata": {},
   "outputs": [
    {
     "data": {
      "text/plain": [
       "{'language': 'Python', 'course': 'Data Science Masters'}"
      ]
     },
     "execution_count": 90,
     "metadata": {},
     "output_type": "execute_result"
    }
   ],
   "source": [
    "# Value of dictionary\n",
    "dict1"
   ]
  },
  {
   "cell_type": "code",
   "execution_count": 91,
   "id": "e0636c66",
   "metadata": {},
   "outputs": [],
   "source": [
    "List = ['Python', 'Machine Learning' , 'Deep Learning']"
   ]
  },
  {
   "cell_type": "code",
   "execution_count": 92,
   "id": "177319d3",
   "metadata": {},
   "outputs": [
    {
     "data": {
      "text/plain": [
       "['Python', 'Machine Learning', 'Deep Learning']"
      ]
     },
     "execution_count": 92,
     "metadata": {},
     "output_type": "execute_result"
    }
   ],
   "source": [
    "# setdefault() method\n",
    "x = dict1.setdefault('Topic',List)\n",
    "x"
   ]
  },
  {
   "cell_type": "code",
   "execution_count": 93,
   "id": "09cbdb55",
   "metadata": {},
   "outputs": [
    {
     "data": {
      "text/plain": [
       "{'language': 'Python',\n",
       " 'course': 'Data Science Masters',\n",
       " 'Topic': ['Python', 'Machine Learning', 'Deep Learning']}"
      ]
     },
     "execution_count": 93,
     "metadata": {},
     "output_type": "execute_result"
    }
   ],
   "source": [
    "# Updated Dictionary\n",
    "dict1"
   ]
  },
  {
   "cell_type": "markdown",
   "id": "6c8a54f7",
   "metadata": {},
   "source": [
    "...................................................................................................."
   ]
  },
  {
   "cell_type": "markdown",
   "id": "a0e79951",
   "metadata": {},
   "source": [
    "## Q8. What are the three view objects in dictionaries? Use the three in-built methods in python to display these three view objects for the given dictionary.\n",
    "### dict1 = {'Sport': 'Cricket' , 'Teams': ['India', 'Australia', 'England', 'South Africa', 'Sri Lanka', 'New Zealand']}\n",
    "## Answer:"
   ]
  },
  {
   "cell_type": "markdown",
   "id": "d8f4f48f",
   "metadata": {},
   "source": [
    "* The main three view objects of dictionary are \n",
    "    * keys, \n",
    "    * values and \n",
    "    * items. \n",
    "* They provide a non-constant view of the dictionary’s entries. \n",
    "* Keys holds all the keys of the dictionary.\n",
    "* The values objects holds all the values.\n",
    "* The items holds the key-value pairs.\n",
    "* The three in-built methods in python to display three view objects for the dictionary\n",
    "    * keys()\n",
    "    * values()\n",
    "    * items()"
   ]
  },
  {
   "cell_type": "code",
   "execution_count": 55,
   "id": "0a145645",
   "metadata": {},
   "outputs": [
    {
     "data": {
      "text/plain": [
       "dict"
      ]
     },
     "execution_count": 55,
     "metadata": {},
     "output_type": "execute_result"
    }
   ],
   "source": [
    "# type()\n",
    "dict1 = {'Sport': 'Cricket' , 'Teams': ['India', 'Australia', 'England', 'South Africa', 'Sri Lanka', 'New Zealand']}\n",
    "type(dict1)"
   ]
  },
  {
   "cell_type": "code",
   "execution_count": 53,
   "id": "b858feb3",
   "metadata": {},
   "outputs": [
    {
     "data": {
      "text/plain": [
       "{'Sport': 'Cricket',\n",
       " 'Teams': ['India',\n",
       "  'Australia',\n",
       "  'England',\n",
       "  'South Africa',\n",
       "  'Sri Lanka',\n",
       "  'New Zealand']}"
      ]
     },
     "execution_count": 53,
     "metadata": {},
     "output_type": "execute_result"
    }
   ],
   "source": [
    "# Values of dictionary \n",
    "dict1"
   ]
  },
  {
   "cell_type": "code",
   "execution_count": 54,
   "id": "839cf547",
   "metadata": {},
   "outputs": [
    {
     "data": {
      "text/plain": [
       "dict_keys(['Sport', 'Teams'])"
      ]
     },
     "execution_count": 54,
     "metadata": {},
     "output_type": "execute_result"
    }
   ],
   "source": [
    "# Keys View object of Dictionary\n",
    "dict1.keys()"
   ]
  },
  {
   "cell_type": "code",
   "execution_count": 45,
   "id": "bf448a59",
   "metadata": {},
   "outputs": [
    {
     "data": {
      "text/plain": [
       "['Sport', 'Teams']"
      ]
     },
     "execution_count": 45,
     "metadata": {},
     "output_type": "execute_result"
    }
   ],
   "source": [
    "# List of Keys of Dictionary\n",
    "list(dict1.keys())"
   ]
  },
  {
   "cell_type": "code",
   "execution_count": 46,
   "id": "9fdc3042",
   "metadata": {},
   "outputs": [
    {
     "data": {
      "text/plain": [
       "dict_values(['Cricket', ['India', 'Australia', 'England', 'South Africa', 'Sri Lanka', 'New Zealand']])"
      ]
     },
     "execution_count": 46,
     "metadata": {},
     "output_type": "execute_result"
    }
   ],
   "source": [
    "# Values View object of Dictionary\n",
    "dict1.values()"
   ]
  },
  {
   "cell_type": "code",
   "execution_count": 47,
   "id": "0c2346ce",
   "metadata": {},
   "outputs": [
    {
     "data": {
      "text/plain": [
       "['Cricket',\n",
       " ['India', 'Australia', 'England', 'South Africa', 'Sri Lanka', 'New Zealand']]"
      ]
     },
     "execution_count": 47,
     "metadata": {},
     "output_type": "execute_result"
    }
   ],
   "source": [
    "# List of Values of Dictionary\n",
    "list(dict1.values())"
   ]
  },
  {
   "cell_type": "code",
   "execution_count": 49,
   "id": "9e3db24f",
   "metadata": {},
   "outputs": [
    {
     "data": {
      "text/plain": [
       "dict_items([('Sport', 'Cricket'), ('Teams', ['India', 'Australia', 'England', 'South Africa', 'Sri Lanka', 'New Zealand'])])"
      ]
     },
     "execution_count": 49,
     "metadata": {},
     "output_type": "execute_result"
    }
   ],
   "source": [
    "# Items View object of Dictionary\n",
    "dict1.items()"
   ]
  },
  {
   "cell_type": "code",
   "execution_count": 58,
   "id": "086a636a",
   "metadata": {},
   "outputs": [
    {
     "data": {
      "text/plain": [
       "[('Sport', 'Cricket'),\n",
       " ('Teams',\n",
       "  ['India',\n",
       "   'Australia',\n",
       "   'England',\n",
       "   'South Africa',\n",
       "   'Sri Lanka',\n",
       "   'New Zealand'])]"
      ]
     },
     "execution_count": 58,
     "metadata": {},
     "output_type": "execute_result"
    }
   ],
   "source": [
    "# List of Items of Dictionary\n",
    "list(dict1.items())"
   ]
  },
  {
   "cell_type": "markdown",
   "id": "6eee27b0",
   "metadata": {},
   "source": [
    "....................................................................................................."
   ]
  }
 ],
 "metadata": {
  "kernelspec": {
   "display_name": "Python 3 (ipykernel)",
   "language": "python",
   "name": "python3"
  },
  "language_info": {
   "codemirror_mode": {
    "name": "ipython",
    "version": 3
   },
   "file_extension": ".py",
   "mimetype": "text/x-python",
   "name": "python",
   "nbconvert_exporter": "python",
   "pygments_lexer": "ipython3",
   "version": "3.9.13"
  }
 },
 "nbformat": 4,
 "nbformat_minor": 5
}
